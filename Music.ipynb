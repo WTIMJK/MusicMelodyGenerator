{
 "cells": [
  {
   "cell_type": "code",
   "execution_count": 11,
   "metadata": {},
   "outputs": [],
   "source": [
    "from __future__ import division\n",
    "import math\n",
    "import pygame\n",
    "import collections\n",
    "import itertools\n",
    "from pyknon.music import NoteSeq, Note, Rest\n",
    "from pyknon.genmidi import Midi\n",
    "import os\n",
    "from random import choice"
   ]
  },
  {
   "cell_type": "code",
   "execution_count": 2,
   "metadata": {},
   "outputs": [],
   "source": [
    "def mod12(n):\n",
    "    return n%12\n",
    "def note_name(number): \n",
    "    notes = 'C C# D D# E F F# G G# A A# B'.split() \n",
    "    return notes[mod12(number)]\n",
    "def accidentals(note_string):\n",
    "    acc = len(note_string[1:])\n",
    "    if '#' in note_string:\n",
    "        return acc\n",
    "    elif 'b' in note_string:\n",
    "        return -acc\n",
    "    else:\n",
    "        return 0\n",
    "def name_to_number(note_string):\n",
    "    notes = 'C . D . E F . G . A . B'.split()\n",
    "    name = note_string[0:1].upper()\n",
    "    number = notes.index(name)\n",
    "    acc = accidentals(note_string)\n",
    "    return mod12(number + acc)\n",
    "def durations(note_values, unity, tempo):\n",
    "    return [note_duratino(nv, unity, tempo) for nv in notes_values]\n",
    "def note_duration(note_value, unity, tempo):\n",
    "    return (60.0 * note_value) / (tempo * unity)\n",
    "def dotted_duration(duration, dots):\n",
    "    ratio = Fraction(1,2)\n",
    "    return duration * (1 - ratio**(dots+1))/ratio\n"
   ]
  },
  {
   "cell_type": "code",
   "execution_count": 3,
   "metadata": {},
   "outputs": [],
   "source": [
    "def interval(x, y):\n",
    "    return mod12(x-y)\n",
    "def transposition(notes, index):\n",
    "    return [mod12(n+index) for n in notes]\n",
    "def retrograde(notes):\n",
    "    return list(reversed(notes))\n",
    "def rotate(item, n=1):\n",
    "    modn = n % len(item)\n",
    "    return item[modn:] + item[0:modn]\n",
    "def inversion(notes, index=0):\n",
    "    return [mod12(index - n) for n in notes]\n",
    "# def inversion_startswith(notes, start):\n",
    "#     transp = transposition_startswith(notes, 0)"
   ]
  },
  {
   "cell_type": "code",
   "execution_count": 4,
   "metadata": {},
   "outputs": [],
   "source": [
    "def name_to_diatonic(note_string):\n",
    "    notes = 'C D E F G A B'.split() \n",
    "    name = note_string[0:1].upper() \n",
    "    return notes.index(name)\n",
    "def interval_name(note1, note2): \n",
    "    quantities = ['Unison', 'Second', 'Third', 'Fourth', 'Fifth', 'Sixth', 'Seventh'] \n",
    "    n1, n2 = name_to_number(note1), name_to_number(note2) \n",
    "    d1, d2 = name_to_diatonic(note1), name_to_diatonic(note2) \n",
    "    chromatic_interval = interval(n2, n1) \n",
    "    diatonic_interval = (d2 - d1) % 7 \n",
    "    quantity_name = quantities[diatonic_interval] \n",
    "    quality_name = get_quality(diatonic_interval, chromatic_interval) \n",
    "    return '%s %s' % (quality_name, quantity_name)\n",
    "def get_quality(diatonic_interval, chromatic_interval): \n",
    "    if diatonic_interval in [0, 3, 4]:\n",
    "        quality_map = ['Diminished', 'Perfect', 'Augmented'] \n",
    "    else: \n",
    "        quality_map = ['Diminished', 'Minor', 'Major', 'Augmented'] \n",
    "    index_map = [-1, 0, 2, 4, 6, 7, 9] \n",
    "    try: \n",
    "        return quality_map[chromatic_interval - index_map[diatonic_interval]] \n",
    "    except IndexError: \n",
    "        raise SimpleMusicError('Sorry, I can’t deal with this interval :-(')"
   ]
  },
  {
   "cell_type": "code",
   "execution_count": 5,
   "metadata": {},
   "outputs": [],
   "source": [
    "def choice_if_list(item):\n",
    "    if isinstance(item, collections.Iterable):\n",
    "        return choice(item)\n",
    "    else:\n",
    "        return item\n",
    "def random_notes(pitch_list, octave_list, duration, number_of_notes, volume=120):\n",
    "    result = NoteSeq()\n",
    "    for x in range(number_of_notes):\n",
    "        pitch = choice(pitch_list)\n",
    "        octave = choice_if_list(octave_list)\n",
    "        dur = choice_if_list(duration)\n",
    "        vol = choice_if_list(volume)\n",
    "        result.append(Note(pitch, octave, dur, vol))\n",
    "    return result\n",
    "def random_notes_scale(root, majorMinor, octave_list, duration, number_of_notes, volume=120):\n",
    "    root = name_to_number(root)\n",
    "    pitch_list = [root]\n",
    "    if majorMinor==\"Major\":\n",
    "        interval = [2,2,1,2,2,2]\n",
    "    else:\n",
    "        interval = [2,1,2,2,1,2]\n",
    "    for i in interval:\n",
    "        pitch_list.append(root+i)\n",
    "        root+=i\n",
    "    print(pitch_list)\n",
    "    return random_notes(pitch_list, octave_list, duration, number_of_notes, volume)"
   ]
  },
  {
   "cell_type": "code",
   "execution_count": 6,
   "metadata": {},
   "outputs": [],
   "source": [
    "def fibonacci(n):\n",
    "    result = []\n",
    "    a, b = 0, 1\n",
    "    while a < n:\n",
    "        result.append(a)\n",
    "        a, b = b, a + b\n",
    "    return result\n",
    "def pascals_triangle(n):\n",
    "    x = [1]\n",
    "    yield x\n",
    "    for i in range(n - 1):\n",
    "        x = [sum(i) for i in zip([0] + x, x + [0])]\n",
    "        yield x\n",
    "def play_list(pitch_list, octave_list, duration, volume=120):\n",
    "    result = NoteSeq()\n",
    "    for pitch in pitch_list:\n",
    "        note = pitch%12\n",
    "        octave = choice_if_list(octave_list)\n",
    "        dur = choice_if_list(duration)\n",
    "        vol = choice_if_list(volume)\n",
    "        result.append(Note(note, octave, dur, vol))\n",
    "    return result"
   ]
  },
  {
   "cell_type": "code",
   "execution_count": 7,
   "metadata": {},
   "outputs": [],
   "source": [
    "def writeMidi(path, seq):\n",
    "    if type(seq[0]) == Note:\n",
    "        print(\"One Track\")\n",
    "        midi = Midi(1, tempo=100)\n",
    "        midi.seq_notes(seq)\n",
    "    else:\n",
    "        midi = Midi(len(seq), tempo=100)\n",
    "        i = 0\n",
    "        for track in seq:\n",
    "            midi.seq_notes(track, track=i)\n",
    "            print(track)\n",
    "            i+=1\n",
    "    midi.write(\"test3.mid\")\n",
    "def playMidi(path):\n",
    "    print(\"play\")\n",
    "    clock = pygame.time.Clock()\n",
    "    pygame.init()\n",
    "    pygame.mixer.music.load(path)\n",
    "    pygame.mixer.music.play()\n",
    "    while pygame.mixer.music.get_busy():\n",
    "        clock.tick(60)\n",
    "    print(\"end\")\n",
    "    os.remove(path)\n"
   ]
  },
  {
   "cell_type": "code",
   "execution_count": 14,
   "metadata": {},
   "outputs": [
    {
     "name": "stdout",
     "output_type": "stream",
     "text": [
      "[1, 3, 4, 6, 8, 9, 11]\n",
      "One Track\n",
      "play\n",
      "end\n"
     ]
    }
   ],
   "source": [
    "seq = random_notes_scale('C#', 'Minor', range(5,6), [1/16,1/8, 1/4],50)\n",
    "#seq = random_notes(range(0,12), range(5,7), [1/16,.125,.25],20)\n",
    "seq\n",
    "writeMidi('test3.mid', seq)\n",
    "playMidi('test3.mid')"
   ]
  },
  {
   "cell_type": "code",
   "execution_count": 8,
   "metadata": {},
   "outputs": [
    {
     "data": {
      "text/plain": [
       "{0: [0, 2, 4, 5, 7, 9, 11],\n",
       " 1: [1, 3, 5, 6, 8, 10, 0],\n",
       " 2: [2, 4, 6, 7, 9, 11, 1],\n",
       " 3: [3, 5, 7, 8, 10, 0, 2],\n",
       " 4: [4, 6, 8, 9, 11, 1, 3],\n",
       " 5: [5, 7, 9, 10, 0, 2, 4],\n",
       " 6: [6, 8, 10, 11, 1, 3, 5],\n",
       " 7: [7, 9, 11, 0, 2, 4, 6],\n",
       " 8: [8, 10, 0, 1, 3, 5, 7],\n",
       " 9: [9, 11, 1, 2, 4, 6, 8],\n",
       " 10: [10, 0, 2, 3, 5, 7, 9],\n",
       " 11: [11, 1, 3, 4, 6, 8, 10]}"
      ]
     },
     "execution_count": 8,
     "metadata": {},
     "output_type": "execute_result"
    }
   ],
   "source": [
    "pattern = [0,2,4,5,7,9,11]\n",
    "majorScales = {}\n",
    "for i in range(12):\n",
    "    majorScales[i] = [(j+i)%12 for j in pattern]\n",
    "majorScales"
   ]
  },
  {
   "cell_type": "code",
   "execution_count": 9,
   "metadata": {},
   "outputs": [],
   "source": [
    "def getScales(notes):\n",
    "    ans = []\n",
    "    for scale in majorScales:\n",
    "        if all(note in majorScales[scale] for note in notes):\n",
    "            ans.append(note_name(scale))\n",
    "    return ans\n",
    "                "
   ]
  },
  {
   "cell_type": "code",
   "execution_count": 10,
   "metadata": {},
   "outputs": [
    {
     "data": {
      "text/plain": [
       "['C', 'G']"
      ]
     },
     "execution_count": 10,
     "metadata": {},
     "output_type": "execute_result"
    }
   ],
   "source": [
    "getScales([0,11])"
   ]
  },
  {
   "cell_type": "code",
   "execution_count": 18,
   "metadata": {},
   "outputs": [],
   "source": [
    "def mod7(x):\n",
    "    return x % 7\n",
    "def getNoteNums(notes, scaleNum):\n",
    "    scale = majorScales[scaleNum]\n",
    "    ans = []\n",
    "    for note in notes:\n",
    "        for i in range(len(scale)):\n",
    "            if note==scale[i]:\n",
    "                ans.append(i)\n",
    "    return ans\n",
    "    #return [i for note in notes for i in range(len(scale)) if note==scale[i]]\n",
    "def getNotesFromNums(nums, scaleNum):\n",
    "    scale = majorScales[scaleNum]\n",
    "    ans = []\n",
    "    for num in nums:\n",
    "        for i in range(len(scale)):\n",
    "            if num==i:\n",
    "                ans.append(scale[i])\n",
    "    return ans\n",
    "    #return [scale[i] for i in range(len(scale)) for num in nums if num==i]\n",
    "#invert\n",
    "def scaleInvert(notes, scaleNum, index=6):\n",
    "    scale = majorScales[scaleNum]\n",
    "    NoteNums = getNoteNums(notes, scaleNum)\n",
    "    inverted = [mod7(index - n) for n in NoteNums]\n",
    "    return getNotesFromNums(inverted, scaleNum)\n",
    "#transpose\n",
    "def scaleTranspose(notes, scaleNum, distance=0):\n",
    "    scale = majorScales[scaleNum]\n",
    "    NoteNums = getNoteNums(notes, scaleNum)\n",
    "    transposed = [mod7(n + distance) for n in NoteNums]\n",
    "    return getNotesFromNums(transposed, scaleNum)\n",
    "    pass\n",
    "#stretch_Duration\n",
    "def scaleStretchDuration(notes, factor):\n",
    "    return notes.stretch_dur(factor)\n",
    "#stretch_interval\n",
    "def scaleStretchInterval(notes, scaleNum, factor):\n",
    "    scale = majorScales[scaleNum]\n",
    "    NoteNums = getNoteNums(notes, scaleNum)\n",
    "    intervals = [NoteNums[i+1] - NoteNums[i] for i in range(len(NoteNums)-1)]\n",
    "    print(intervals)\n",
    "    stretched = [math.ceil(n+factor) for n in intervals]\n",
    "    print(stretched)\n",
    "    resultNums = [NoteNums[0]]\n",
    "    for i in stretched:\n",
    "        resultNums.append(resultNums[-1]+i)\n",
    "    return getNotesFromNums(resultNums, scaleNum)\n",
    "def rotation(notes, degree):\n",
    "    return notes.rotation(degree)"
   ]
  },
  {
   "cell_type": "code",
   "execution_count": 19,
   "metadata": {},
   "outputs": [
    {
     "name": "stdout",
     "output_type": "stream",
     "text": [
      "[1, 1]\n",
      "[2, 2]\n"
     ]
    },
    {
     "data": {
      "text/plain": [
       "[0, 4, 7]"
      ]
     },
     "execution_count": 19,
     "metadata": {},
     "output_type": "execute_result"
    }
   ],
   "source": [
    "notes = [0,2,4]\n",
    "scaleStretchInterval(notes, 0, 1)"
   ]
  },
  {
   "cell_type": "code",
   "execution_count": null,
   "metadata": {},
   "outputs": [],
   "source": []
  },
  {
   "cell_type": "code",
   "execution_count": 139,
   "metadata": {},
   "outputs": [
    {
     "name": "stdout",
     "output_type": "stream",
     "text": [
      "One Track\n",
      "play\n",
      "end\n"
     ]
    }
   ],
   "source": [
    "def abstraction():\n",
    "    a = NoteSeq(\"C4. Eb8\")\n",
    "    a1 = a.transp(5).stretch_dur(0.5)\n",
    "    a2 = a.inv(\"Db''\")\n",
    "    a3 = a1.inv(8)\n",
    "    \n",
    "    A = a + a1 + a2 + a3\n",
    "    A2 = A.transp(2)\n",
    "    B = a1.transp(8) + a1.transp(\"Eb''\")\n",
    "    \n",
    "    c = NoteSeq([Note(x.value, dur=0.125) for x in a+a1])\n",
    "    \n",
    "    C = (c.inv(\"Ab''\") +\n",
    "        c.inv(10) + \n",
    "        c.stretch_interval(2).transp(2) + \n",
    "        c.inv(\"G''\") + \n",
    "        c.inv(\"E''\").stretch_interval(1) + \n",
    "        c.inv(\"A\").stretch_interval(1)\n",
    "        )\n",
    "    a4 = a.stretch_dur(2).inv(6)\n",
    "    \n",
    "    Part1 = A + NoteSeq(\"C2\") + A2 + B \n",
    "    Part2 = C + a4\n",
    "    writeMidi('test3.mid', Part1 + Part2)\n",
    "    playMidi('test3.mid')\n",
    "abstraction()"
   ]
  },
  {
   "cell_type": "code",
   "execution_count": null,
   "metadata": {
    "collapsed": true
   },
   "outputs": [],
   "source": []
  }
 ],
 "metadata": {
  "kernelspec": {
   "display_name": "Python 3",
   "language": "python",
   "name": "python3"
  },
  "language_info": {
   "codemirror_mode": {
    "name": "ipython",
    "version": 3
   },
   "file_extension": ".py",
   "mimetype": "text/x-python",
   "name": "python",
   "nbconvert_exporter": "python",
   "pygments_lexer": "ipython3",
   "version": "3.6.9"
  }
 },
 "nbformat": 4,
 "nbformat_minor": 1
}
